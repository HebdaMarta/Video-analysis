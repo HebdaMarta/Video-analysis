{
 "cells": [
  {
   "cell_type": "code",
   "execution_count": null,
   "id": "1dd16624",
   "metadata": {},
   "outputs": [],
   "source": [
    "from skimage.util import img_as_ubyte\n",
    "from deeplabcut.pose_estimation_tensorflow.core import predict\n",
    "from deeplabcut.utils import auxiliaryfunctions\n",
    "from deeplabcut.pose_estimation_tensorflow.config import load_config\n",
    "import logging\n",
    "logging.basicConfig()\n",
    "logging.getLogger().setLevel(logging.WARNING)\n",
    "\n",
    "path = \"/content/drive/MyDrive/Wyniki/model_1_deeplabcut/19_12_2021-Marta-2021-12-17/config.yaml\"\n",
    "cfg = auxiliaryfunctions.read_config(path)\n",
    "\n",
    "path = \"/content/drive/MyDrive/Wyniki/model_2_deeplabcut/23_12_2021-Marta-2021-12-23/dlc-models/iteration-0/23_12_2021Dec23-trainset99shuffle1/test/pose_cfg.yaml\"\n",
    "dlc_cfg = load_config(path)\n",
    "\n",
    "path = \"/content/drive/MyDrive/Wyniki/model_2_deeplabcut/23_12_2021-Marta-2021-12-23/dlc-models/iteration-0/23_12_2021Dec23-trainset99shuffle1/train/snapshot-50000\"\n",
    "dlc_cfg[\"init_weights\"] = path\n",
    "dlc_cfg[\"batch_size\"] = 1\n",
    "\n",
    "sess, inputs, outputs = predict.setup_pose_prediction(dlc_cfg)"
   ]
  },
  {
   "cell_type": "code",
   "execution_count": null,
   "id": "0a3f90a1",
   "metadata": {},
   "outputs": [],
   "source": [
    "image = get_image()\n",
    "image = cv2.cvtColor(image, cv2.COLOR_BGR2RGB)\n",
    "image = img_as_ubyte(image)\n",
    "points = predict.getpose(image, dlc_cfg, sess, inputs, outputs)"
   ]
  }
 ],
 "metadata": {
  "kernelspec": {
   "display_name": "Python 3",
   "language": "python",
   "name": "python3"
  },
  "language_info": {
   "codemirror_mode": {
    "name": "ipython",
    "version": 3
   },
   "file_extension": ".py",
   "mimetype": "text/x-python",
   "name": "python",
   "nbconvert_exporter": "python",
   "pygments_lexer": "ipython3",
   "version": "3.8.8"
  }
 },
 "nbformat": 4,
 "nbformat_minor": 5
}
