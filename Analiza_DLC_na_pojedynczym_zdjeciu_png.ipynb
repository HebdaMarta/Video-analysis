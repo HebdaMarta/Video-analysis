{
 "cells": [
  {
   "cell_type": "code",
   "execution_count": null,
   "id": "63cda464",
   "metadata": {},
   "outputs": [],
   "source": [
    "from google.colab import drive\n",
    "drive.mount('/content/drive')"
   ]
  },
  {
   "cell_type": "code",
   "execution_count": 6,
   "id": "78afff67",
   "metadata": {},
   "outputs": [
    {
     "name": "stdout",
     "output_type": "stream",
     "text": [
      "Requirement already satisfied: deeplabcut in c:\\users\\marta\\appdata\\roaming\\python\\python38\\site-packages (2.2rc3)\n",
      "Requirement already satisfied: scipy>=1.4 in c:\\users\\marta\\anaconda3\\lib\\site-packages (from deeplabcut) (1.6.2)\n",
      "Requirement already satisfied: numba in c:\\users\\marta\\appdata\\roaming\\python\\python38\\site-packages (from deeplabcut) (0.51.1)\n",
      "Requirement already satisfied: tqdm in c:\\users\\marta\\anaconda3\\lib\\site-packages (from deeplabcut) (4.59.0)\n",
      "Requirement already satisfied: pandas>=1.0.1 in c:\\users\\marta\\anaconda3\\lib\\site-packages (from deeplabcut) (1.2.4)\n",
      "Requirement already satisfied: scikit-learn in c:\\users\\marta\\anaconda3\\lib\\site-packages (from deeplabcut) (0.24.1)\n",
      "Requirement already satisfied: statsmodels>=0.11 in c:\\users\\marta\\anaconda3\\lib\\site-packages (from deeplabcut) (0.12.2)\n",
      "Requirement already satisfied: tables in c:\\users\\marta\\anaconda3\\lib\\site-packages (from deeplabcut) (3.6.1)\n",
      "Requirement already satisfied: tensorflow>=2.5 in c:\\users\\marta\\anaconda3\\lib\\site-packages (from deeplabcut) (2.7.0)\n",
      "Requirement already satisfied: scikit-image in c:\\users\\marta\\appdata\\roaming\\python\\python38\\site-packages (from deeplabcut) (0.19.1)\n",
      "Requirement already satisfied: opencv-python-headless in c:\\users\\marta\\appdata\\roaming\\python\\python38\\site-packages (from deeplabcut) (3.4.9.33)\n",
      "Requirement already satisfied: imgaug in c:\\users\\marta\\anaconda3\\lib\\site-packages (from deeplabcut) (0.4.0)\n",
      "Requirement already satisfied: ruamel.yaml>=0.15.0 in c:\\users\\marta\\anaconda3\\lib\\site-packages (from deeplabcut) (0.17.17)\n",
      "Requirement already satisfied: filterpy in c:\\users\\marta\\anaconda3\\lib\\site-packages (from deeplabcut) (1.4.5)\n",
      "Requirement already satisfied: moviepy in c:\\users\\marta\\appdata\\roaming\\python\\python38\\site-packages (from deeplabcut) (1.0.1)\n",
      "Requirement already satisfied: numpy in c:\\users\\marta\\anaconda3\\lib\\site-packages (from deeplabcut) (1.17.5)\n",
      "Requirement already satisfied: Pillow>=7.1 in c:\\users\\marta\\anaconda3\\lib\\site-packages (from deeplabcut) (8.2.0)\n",
      "Requirement already satisfied: pyyaml in c:\\users\\marta\\anaconda3\\lib\\site-packages (from deeplabcut) (5.4.1)\n",
      "Requirement already satisfied: ipython in c:\\users\\marta\\anaconda3\\lib\\site-packages (from deeplabcut) (7.22.0)\n",
      "Requirement already satisfied: networkx in c:\\users\\marta\\anaconda3\\lib\\site-packages (from deeplabcut) (2.5)\n",
      "Requirement already satisfied: tf-slim in c:\\users\\marta\\anaconda3\\lib\\site-packages (from deeplabcut) (1.1.0)\n",
      "Requirement already satisfied: matplotlib==3.1.3 in c:\\users\\marta\\appdata\\roaming\\python\\python38\\site-packages (from deeplabcut) (3.1.3)\n",
      "Requirement already satisfied: tensorpack in c:\\users\\marta\\appdata\\roaming\\python\\python38\\site-packages (from deeplabcut) (0.9.8)\n",
      "Requirement already satisfied: python-dateutil>=2.1 in c:\\users\\marta\\anaconda3\\lib\\site-packages (from matplotlib==3.1.3->deeplabcut) (2.8.1)\n",
      "Requirement already satisfied: cycler>=0.10 in c:\\users\\marta\\anaconda3\\lib\\site-packages (from matplotlib==3.1.3->deeplabcut) (0.10.0)\n",
      "Requirement already satisfied: pyparsing!=2.0.4,!=2.1.2,!=2.1.6,>=2.0.1 in c:\\users\\marta\\anaconda3\\lib\\site-packages (from matplotlib==3.1.3->deeplabcut) (2.4.7)\n",
      "Requirement already satisfied: kiwisolver>=1.0.1 in c:\\users\\marta\\anaconda3\\lib\\site-packages (from matplotlib==3.1.3->deeplabcut) (1.3.1)\n",
      "Requirement already satisfied: six in c:\\users\\marta\\anaconda3\\lib\\site-packages (from cycler>=0.10->matplotlib==3.1.3->deeplabcut) (1.15.0)\n",
      "Requirement already satisfied: pytz>=2017.3 in c:\\users\\marta\\anaconda3\\lib\\site-packages (from pandas>=1.0.1->deeplabcut) (2021.1)\n",
      "Requirement already satisfied: ruamel.yaml.clib>=0.1.2 in c:\\users\\marta\\anaconda3\\lib\\site-packages (from ruamel.yaml>=0.15.0->deeplabcut) (0.2.6)\n",
      "Requirement already satisfied: patsy>=0.5 in c:\\users\\marta\\anaconda3\\lib\\site-packages (from statsmodels>=0.11->deeplabcut) (0.5.1)\n",
      "Requirement already satisfied: wrapt>=1.11.0 in c:\\users\\marta\\anaconda3\\lib\\site-packages (from tensorflow>=2.5->deeplabcut) (1.12.1)\n",
      "Requirement already satisfied: grpcio<2.0,>=1.24.3 in c:\\users\\marta\\anaconda3\\lib\\site-packages (from tensorflow>=2.5->deeplabcut) (1.41.1)\n",
      "Requirement already satisfied: tensorflow-estimator<2.8,~=2.7.0rc0 in c:\\users\\marta\\anaconda3\\lib\\site-packages (from tensorflow>=2.5->deeplabcut) (2.7.0)\n",
      "Requirement already satisfied: libclang>=9.0.1 in c:\\users\\marta\\anaconda3\\lib\\site-packages (from tensorflow>=2.5->deeplabcut) (12.0.0)\n",
      "Requirement already satisfied: keras-preprocessing>=1.1.1 in c:\\users\\marta\\anaconda3\\lib\\site-packages (from tensorflow>=2.5->deeplabcut) (1.1.2)\n",
      "Requirement already satisfied: protobuf>=3.9.2 in c:\\users\\marta\\anaconda3\\lib\\site-packages (from tensorflow>=2.5->deeplabcut) (3.19.1)\n",
      "Requirement already satisfied: wheel<1.0,>=0.32.0 in c:\\users\\marta\\anaconda3\\lib\\site-packages (from tensorflow>=2.5->deeplabcut) (0.36.2)\n",
      "Requirement already satisfied: typing-extensions>=3.6.6 in c:\\users\\marta\\anaconda3\\lib\\site-packages (from tensorflow>=2.5->deeplabcut) (3.7.4.3)\n",
      "Requirement already satisfied: opt-einsum>=2.3.2 in c:\\users\\marta\\anaconda3\\lib\\site-packages (from tensorflow>=2.5->deeplabcut) (3.3.0)\n",
      "Requirement already satisfied: absl-py>=0.4.0 in c:\\users\\marta\\anaconda3\\lib\\site-packages (from tensorflow>=2.5->deeplabcut) (1.0.0)\n",
      "Requirement already satisfied: astunparse>=1.6.0 in c:\\users\\marta\\anaconda3\\lib\\site-packages (from tensorflow>=2.5->deeplabcut) (1.6.3)\n",
      "Requirement already satisfied: flatbuffers<3.0,>=1.12 in c:\\users\\marta\\anaconda3\\lib\\site-packages (from tensorflow>=2.5->deeplabcut) (2.0)\n",
      "Requirement already satisfied: tensorflow-io-gcs-filesystem>=0.21.0 in c:\\users\\marta\\anaconda3\\lib\\site-packages (from tensorflow>=2.5->deeplabcut) (0.22.0)\n",
      "Requirement already satisfied: gast<0.5.0,>=0.2.1 in c:\\users\\marta\\anaconda3\\lib\\site-packages (from tensorflow>=2.5->deeplabcut) (0.4.0)\n",
      "Requirement already satisfied: termcolor>=1.1.0 in c:\\users\\marta\\anaconda3\\lib\\site-packages (from tensorflow>=2.5->deeplabcut) (1.1.0)\n",
      "Requirement already satisfied: tensorboard~=2.6 in c:\\users\\marta\\anaconda3\\lib\\site-packages (from tensorflow>=2.5->deeplabcut) (2.7.0)\n",
      "Requirement already satisfied: keras<2.8,>=2.7.0rc0 in c:\\users\\marta\\anaconda3\\lib\\site-packages (from tensorflow>=2.5->deeplabcut) (2.7.0)\n",
      "Requirement already satisfied: google-pasta>=0.1.1 in c:\\users\\marta\\anaconda3\\lib\\site-packages (from tensorflow>=2.5->deeplabcut) (0.2.0)\n",
      "Requirement already satisfied: h5py>=2.9.0 in c:\\users\\marta\\anaconda3\\lib\\site-packages (from tensorflow>=2.5->deeplabcut) (2.10.0)\n",
      "Requirement already satisfied: tensorboard-data-server<0.7.0,>=0.6.0 in c:\\users\\marta\\anaconda3\\lib\\site-packages (from tensorboard~=2.6->tensorflow>=2.5->deeplabcut) (0.6.1)\n",
      "Requirement already satisfied: markdown>=2.6.8 in c:\\users\\marta\\anaconda3\\lib\\site-packages (from tensorboard~=2.6->tensorflow>=2.5->deeplabcut) (3.3.6)\n",
      "Requirement already satisfied: requests<3,>=2.21.0 in c:\\users\\marta\\anaconda3\\lib\\site-packages (from tensorboard~=2.6->tensorflow>=2.5->deeplabcut) (2.25.1)\n",
      "Requirement already satisfied: google-auth-oauthlib<0.5,>=0.4.1 in c:\\users\\marta\\anaconda3\\lib\\site-packages (from tensorboard~=2.6->tensorflow>=2.5->deeplabcut) (0.4.6)\n",
      "Requirement already satisfied: google-auth<3,>=1.6.3 in c:\\users\\marta\\anaconda3\\lib\\site-packages (from tensorboard~=2.6->tensorflow>=2.5->deeplabcut) (2.3.3)\n",
      "Requirement already satisfied: setuptools>=41.0.0 in c:\\users\\marta\\anaconda3\\lib\\site-packages (from tensorboard~=2.6->tensorflow>=2.5->deeplabcut) (52.0.0.post20210125)\n",
      "Requirement already satisfied: tensorboard-plugin-wit>=1.6.0 in c:\\users\\marta\\anaconda3\\lib\\site-packages (from tensorboard~=2.6->tensorflow>=2.5->deeplabcut) (1.8.0)\n",
      "Requirement already satisfied: werkzeug>=0.11.15 in c:\\users\\marta\\anaconda3\\lib\\site-packages (from tensorboard~=2.6->tensorflow>=2.5->deeplabcut) (1.0.1)\n",
      "Requirement already satisfied: cachetools<5.0,>=2.0.0 in c:\\users\\marta\\anaconda3\\lib\\site-packages (from google-auth<3,>=1.6.3->tensorboard~=2.6->tensorflow>=2.5->deeplabcut) (4.2.4)\n",
      "Requirement already satisfied: rsa<5,>=3.1.4 in c:\\users\\marta\\anaconda3\\lib\\site-packages (from google-auth<3,>=1.6.3->tensorboard~=2.6->tensorflow>=2.5->deeplabcut) (4.7.2)\n",
      "Requirement already satisfied: pyasn1-modules>=0.2.1 in c:\\users\\marta\\anaconda3\\lib\\site-packages (from google-auth<3,>=1.6.3->tensorboard~=2.6->tensorflow>=2.5->deeplabcut) (0.2.8)\n",
      "Requirement already satisfied: requests-oauthlib>=0.7.0 in c:\\users\\marta\\anaconda3\\lib\\site-packages (from google-auth-oauthlib<0.5,>=0.4.1->tensorboard~=2.6->tensorflow>=2.5->deeplabcut) (1.3.0)\n",
      "Requirement already satisfied: importlib-metadata>=4.4 in c:\\users\\marta\\anaconda3\\lib\\site-packages (from markdown>=2.6.8->tensorboard~=2.6->tensorflow>=2.5->deeplabcut) (4.8.2)\n",
      "Requirement already satisfied: zipp>=0.5 in c:\\users\\marta\\anaconda3\\lib\\site-packages (from importlib-metadata>=4.4->markdown>=2.6.8->tensorboard~=2.6->tensorflow>=2.5->deeplabcut) (3.4.1)\n",
      "Requirement already satisfied: pyasn1<0.5.0,>=0.4.6 in c:\\users\\marta\\anaconda3\\lib\\site-packages (from pyasn1-modules>=0.2.1->google-auth<3,>=1.6.3->tensorboard~=2.6->tensorflow>=2.5->deeplabcut) (0.4.8)\n",
      "Requirement already satisfied: certifi>=2017.4.17 in c:\\users\\marta\\anaconda3\\lib\\site-packages (from requests<3,>=2.21.0->tensorboard~=2.6->tensorflow>=2.5->deeplabcut) (2020.12.5)\n",
      "Requirement already satisfied: urllib3<1.27,>=1.21.1 in c:\\users\\marta\\anaconda3\\lib\\site-packages (from requests<3,>=2.21.0->tensorboard~=2.6->tensorflow>=2.5->deeplabcut) (1.26.4)\n",
      "Requirement already satisfied: idna<3,>=2.5 in c:\\users\\marta\\anaconda3\\lib\\site-packages (from requests<3,>=2.21.0->tensorboard~=2.6->tensorflow>=2.5->deeplabcut) (2.10)\n",
      "Requirement already satisfied: chardet<5,>=3.0.2 in c:\\users\\marta\\anaconda3\\lib\\site-packages (from requests<3,>=2.21.0->tensorboard~=2.6->tensorflow>=2.5->deeplabcut) (4.0.0)\n",
      "Requirement already satisfied: oauthlib>=3.0.0 in c:\\users\\marta\\anaconda3\\lib\\site-packages (from requests-oauthlib>=0.7.0->google-auth-oauthlib<0.5,>=0.4.1->tensorboard~=2.6->tensorflow>=2.5->deeplabcut) (3.1.1)\n",
      "Requirement already satisfied: Shapely in c:\\users\\marta\\anaconda3\\lib\\site-packages (from imgaug->deeplabcut) (1.8.0)\n",
      "Requirement already satisfied: opencv-python in c:\\users\\marta\\anaconda3\\lib\\site-packages (from imgaug->deeplabcut) (4.5.4.58)\n",
      "Requirement already satisfied: imageio in c:\\users\\marta\\anaconda3\\lib\\site-packages (from imgaug->deeplabcut) (2.9.0)\n",
      "Requirement already satisfied: packaging>=20.0 in c:\\users\\marta\\anaconda3\\lib\\site-packages (from scikit-image->deeplabcut) (20.9)\n",
      "Requirement already satisfied: PyWavelets>=1.1.1 in c:\\users\\marta\\anaconda3\\lib\\site-packages (from scikit-image->deeplabcut) (1.1.1)\n",
      "Requirement already satisfied: tifffile>=2019.7.26 in c:\\users\\marta\\anaconda3\\lib\\site-packages (from scikit-image->deeplabcut) (2021.4.8)\n",
      "Requirement already satisfied: decorator>=4.3.0 in c:\\users\\marta\\anaconda3\\lib\\site-packages (from networkx->deeplabcut) (4.4.2)\n",
      "Requirement already satisfied: colorama in c:\\users\\marta\\anaconda3\\lib\\site-packages (from ipython->deeplabcut) (0.4.4)\n",
      "Requirement already satisfied: backcall in c:\\users\\marta\\anaconda3\\lib\\site-packages (from ipython->deeplabcut) (0.2.0)\n",
      "Requirement already satisfied: pygments in c:\\users\\marta\\anaconda3\\lib\\site-packages (from ipython->deeplabcut) (2.8.1)\n",
      "Requirement already satisfied: traitlets>=4.2 in c:\\users\\marta\\anaconda3\\lib\\site-packages (from ipython->deeplabcut) (5.0.5)\n",
      "Requirement already satisfied: pickleshare in c:\\users\\marta\\anaconda3\\lib\\site-packages (from ipython->deeplabcut) (0.7.5)\n",
      "Requirement already satisfied: prompt-toolkit!=3.0.0,!=3.0.1,<3.1.0,>=2.0.0 in c:\\users\\marta\\anaconda3\\lib\\site-packages (from ipython->deeplabcut) (3.0.17)\n",
      "Requirement already satisfied: jedi>=0.16 in c:\\users\\marta\\anaconda3\\lib\\site-packages (from ipython->deeplabcut) (0.17.2)\n",
      "Requirement already satisfied: parso<0.8.0,>=0.7.0 in c:\\users\\marta\\anaconda3\\lib\\site-packages (from jedi>=0.16->ipython->deeplabcut) (0.7.0)\n",
      "Requirement already satisfied: wcwidth in c:\\users\\marta\\anaconda3\\lib\\site-packages (from prompt-toolkit!=3.0.0,!=3.0.1,<3.1.0,>=2.0.0->ipython->deeplabcut) (0.2.5)\n",
      "Requirement already satisfied: ipython-genutils in c:\\users\\marta\\anaconda3\\lib\\site-packages (from traitlets>=4.2->ipython->deeplabcut) (0.2.0)\n",
      "Requirement already satisfied: proglog<=1.0.0 in c:\\users\\marta\\anaconda3\\lib\\site-packages (from moviepy->deeplabcut) (0.1.9)\n",
      "Requirement already satisfied: imageio-ffmpeg>=0.2.0 in c:\\users\\marta\\anaconda3\\lib\\site-packages (from moviepy->deeplabcut) (0.4.5)\n",
      "Requirement already satisfied: llvmlite<0.35,>=0.34.0.dev0 in c:\\users\\marta\\appdata\\roaming\\python\\python38\\site-packages (from numba->deeplabcut) (0.34.0)\n",
      "Requirement already satisfied: threadpoolctl>=2.0.0 in c:\\users\\marta\\anaconda3\\lib\\site-packages (from scikit-learn->deeplabcut) (2.1.0)\n",
      "Requirement already satisfied: joblib>=0.11 in c:\\users\\marta\\anaconda3\\lib\\site-packages (from scikit-learn->deeplabcut) (1.0.1)\n",
      "Requirement already satisfied: numexpr>=2.6.2 in c:\\users\\marta\\anaconda3\\lib\\site-packages (from tables->deeplabcut) (2.7.3)\n",
      "Requirement already satisfied: tabulate>=0.7.7 in c:\\users\\marta\\anaconda3\\lib\\site-packages (from tensorpack->deeplabcut) (0.8.9)\n",
      "Requirement already satisfied: psutil>=5 in c:\\users\\marta\\anaconda3\\lib\\site-packages (from tensorpack->deeplabcut) (5.8.0)\n",
      "Requirement already satisfied: pyzmq>=16 in c:\\users\\marta\\anaconda3\\lib\\site-packages (from tensorpack->deeplabcut) (20.0.0)\n",
      "Requirement already satisfied: msgpack>=0.5.2 in c:\\users\\marta\\anaconda3\\lib\\site-packages (from tensorpack->deeplabcut) (1.0.2)\n",
      "Requirement already satisfied: msgpack-numpy>=0.4.4.2 in c:\\users\\marta\\anaconda3\\lib\\site-packages (from tensorpack->deeplabcut) (0.4.7.1)\n"
     ]
    }
   ],
   "source": [
    "!pip install deeplabcut\n",
    "import deeplabcut\n",
    "import pandas as pd\n",
    "import json"
   ]
  },
  {
   "cell_type": "code",
   "execution_count": 23,
   "id": "eb112c01",
   "metadata": {},
   "outputs": [],
   "source": [
    "path_config_file = r\"C:\\Users\\marta\\19_12_2021-Marta-2021-12-17\\config.yaml\""
   ]
  },
  {
   "cell_type": "code",
   "execution_count": 24,
   "id": "239b8414",
   "metadata": {},
   "outputs": [],
   "source": [
    "images_path = r\"C:\\Users\\marta\\test\\test\""
   ]
  },
  {
   "cell_type": "code",
   "execution_count": 25,
   "id": "4b481b71",
   "metadata": {},
   "outputs": [
    {
     "name": "stdout",
     "output_type": "stream",
     "text": [
      "Using snapshot-25000 for model C:\\Users\\marta\\19_12_2021-Marta-2021-12-17\\dlc-models\\iteration-0\\19_12_2021Dec17-trainset95shuffle1\n",
      "Activating extracting of PAFs\n"
     ]
    },
    {
     "name": "stderr",
     "output_type": "stream",
     "text": [
      "\r",
      "  0%|                                                                                            | 0/2 [00:00<?, ?it/s]"
     ]
    },
    {
     "name": "stdout",
     "output_type": "stream",
     "text": [
      "Analyzing all frames in the directory:  C:\\Users\\marta\\test\\test\n",
      "Starting to extract posture\n",
      "Overall # of frames:  2  found with (before cropping) frame dimensions:  960 540\n"
     ]
    },
    {
     "name": "stderr",
     "output_type": "stream",
     "text": [
      "\r",
      "10it [00:03,  2.92it/s]                                                                                                "
     ]
    },
    {
     "name": "stdout",
     "output_type": "stream",
     "text": [
      "Saving results in C:\\Users\\marta\\test\\test...\n",
      "The folder was analyzed. Now your research can truly start!\n",
      "If the tracking is not satisfactory for some frome, consider expanding the training set.\n"
     ]
    },
    {
     "name": "stderr",
     "output_type": "stream",
     "text": [
      "\n"
     ]
    }
   ],
   "source": [
    "deeplabcut.analyze_time_lapse_frames(path_config_file, images_path, frametype='.png', rgb=True)"
   ]
  },
  {
   "cell_type": "code",
   "execution_count": 26,
   "id": "9f75fe38",
   "metadata": {},
   "outputs": [],
   "source": [
    "df = pd.read_hdf(r'C:\\Users\\marta\\test\\test\\testDLC_dlcrnetms5_19_12_2021Dec17shuffle1_25000.h5')"
   ]
  },
  {
   "cell_type": "code",
   "execution_count": 27,
   "id": "98221f34",
   "metadata": {},
   "outputs": [
    {
     "data": {
      "text/html": [
       "<div>\n",
       "<style scoped>\n",
       "    .dataframe tbody tr th:only-of-type {\n",
       "        vertical-align: middle;\n",
       "    }\n",
       "\n",
       "    .dataframe tbody tr th {\n",
       "        vertical-align: top;\n",
       "    }\n",
       "\n",
       "    .dataframe thead tr th {\n",
       "        text-align: left;\n",
       "    }\n",
       "</style>\n",
       "<table border=\"1\" class=\"dataframe\">\n",
       "  <thead>\n",
       "    <tr>\n",
       "      <th>scorer</th>\n",
       "      <th colspan=\"21\" halign=\"left\">DLC_dlcrnetms5_19_12_2021Dec17shuffle1_25000</th>\n",
       "    </tr>\n",
       "    <tr>\n",
       "      <th>bodyparts</th>\n",
       "      <th colspan=\"3\" halign=\"left\">Neck</th>\n",
       "      <th colspan=\"3\" halign=\"left\">Spine_1</th>\n",
       "      <th colspan=\"3\" halign=\"left\">Spine_2</th>\n",
       "      <th>Spine_3</th>\n",
       "      <th>...</th>\n",
       "      <th>BR_Ankle</th>\n",
       "      <th colspan=\"3\" halign=\"left\">BR_Fetlock</th>\n",
       "      <th colspan=\"3\" halign=\"left\">BR_Hoof</th>\n",
       "      <th colspan=\"3\" halign=\"left\">single</th>\n",
       "    </tr>\n",
       "    <tr>\n",
       "      <th>coords</th>\n",
       "      <th>x</th>\n",
       "      <th>y</th>\n",
       "      <th>likelihood</th>\n",
       "      <th>x</th>\n",
       "      <th>y</th>\n",
       "      <th>likelihood</th>\n",
       "      <th>x</th>\n",
       "      <th>y</th>\n",
       "      <th>likelihood</th>\n",
       "      <th>x</th>\n",
       "      <th>...</th>\n",
       "      <th>likelihood</th>\n",
       "      <th>x</th>\n",
       "      <th>y</th>\n",
       "      <th>likelihood</th>\n",
       "      <th>x</th>\n",
       "      <th>y</th>\n",
       "      <th>likelihood</th>\n",
       "      <th>x</th>\n",
       "      <th>y</th>\n",
       "      <th>likelihood</th>\n",
       "    </tr>\n",
       "  </thead>\n",
       "  <tbody>\n",
       "    <tr>\n",
       "      <th>frame0000.png</th>\n",
       "      <td>324.628247</td>\n",
       "      <td>100.049082</td>\n",
       "      <td>0.835644</td>\n",
       "      <td>267.895287</td>\n",
       "      <td>91.554141</td>\n",
       "      <td>0.713287</td>\n",
       "      <td>194.734844</td>\n",
       "      <td>83.663518</td>\n",
       "      <td>0.934730</td>\n",
       "      <td>132.049941</td>\n",
       "      <td>...</td>\n",
       "      <td>0.002607</td>\n",
       "      <td>90.914023</td>\n",
       "      <td>289.198518</td>\n",
       "      <td>0.999047</td>\n",
       "      <td>104.347261</td>\n",
       "      <td>310.388449</td>\n",
       "      <td>0.999341</td>\n",
       "      <td>331.905083</td>\n",
       "      <td>267.919985</td>\n",
       "      <td>0.000002</td>\n",
       "    </tr>\n",
       "    <tr>\n",
       "      <th>frame0001.png</th>\n",
       "      <td>325.019363</td>\n",
       "      <td>99.192363</td>\n",
       "      <td>0.920174</td>\n",
       "      <td>274.779434</td>\n",
       "      <td>84.148194</td>\n",
       "      <td>0.701704</td>\n",
       "      <td>195.376240</td>\n",
       "      <td>83.047334</td>\n",
       "      <td>0.932055</td>\n",
       "      <td>132.608102</td>\n",
       "      <td>...</td>\n",
       "      <td>0.003227</td>\n",
       "      <td>90.873712</td>\n",
       "      <td>289.947718</td>\n",
       "      <td>0.999107</td>\n",
       "      <td>103.639763</td>\n",
       "      <td>311.151822</td>\n",
       "      <td>0.999290</td>\n",
       "      <td>331.849349</td>\n",
       "      <td>267.955025</td>\n",
       "      <td>0.000002</td>\n",
       "    </tr>\n",
       "  </tbody>\n",
       "</table>\n",
       "<p>2 rows × 63 columns</p>\n",
       "</div>"
      ],
      "text/plain": [
       "scorer        DLC_dlcrnetms5_19_12_2021Dec17shuffle1_25000              \\\n",
       "bodyparts                                             Neck               \n",
       "coords                                                   x           y   \n",
       "frame0000.png                                   324.628247  100.049082   \n",
       "frame0001.png                                   325.019363   99.192363   \n",
       "\n",
       "scorer                                                                  \\\n",
       "bodyparts                    Spine_1                           Spine_2   \n",
       "coords        likelihood           x          y likelihood           x   \n",
       "frame0000.png   0.835644  267.895287  91.554141   0.713287  194.734844   \n",
       "frame0001.png   0.920174  274.779434  84.148194   0.701704  195.376240   \n",
       "\n",
       "scorer                                           ...                        \\\n",
       "bodyparts                               Spine_3  ...   BR_Ankle BR_Fetlock   \n",
       "coords                 y likelihood           x  ... likelihood          x   \n",
       "frame0000.png  83.663518   0.934730  132.049941  ...   0.002607  90.914023   \n",
       "frame0001.png  83.047334   0.932055  132.608102  ...   0.003227  90.873712   \n",
       "\n",
       "scorer                                                                   \\\n",
       "bodyparts                                BR_Hoof                          \n",
       "coords                  y likelihood           x           y likelihood   \n",
       "frame0000.png  289.198518   0.999047  104.347261  310.388449   0.999341   \n",
       "frame0001.png  289.947718   0.999107  103.639763  311.151822   0.999290   \n",
       "\n",
       "scorer                                            \n",
       "bodyparts          single                         \n",
       "coords                  x           y likelihood  \n",
       "frame0000.png  331.905083  267.919985   0.000002  \n",
       "frame0001.png  331.849349  267.955025   0.000002  \n",
       "\n",
       "[2 rows x 63 columns]"
      ]
     },
     "execution_count": 27,
     "metadata": {},
     "output_type": "execute_result"
    }
   ],
   "source": [
    "df"
   ]
  },
  {
   "cell_type": "code",
   "execution_count": 28,
   "id": "c6b7301d",
   "metadata": {},
   "outputs": [],
   "source": [
    "list_of_keypoints = []\n",
    "names = df.index\n",
    "\n",
    "def df_to_json(df):\n",
    "    for index, i in enumerate(range(len(df))):\n",
    "        slownik = {}\n",
    "        predictions = []\n",
    "        \n",
    "        for i in df.iloc[index]:\n",
    "            predictions.append(i)\n",
    "            \n",
    "        del predictions[-3:]\n",
    "        slownik[\"keypoints\"] = predictions\n",
    "        slownik[\"image_name\"] = str(names[index])\n",
    "        scores = predictions[2::3]\n",
    "        slownik[\"score\"] = sum(scores)/len(scores)\n",
    "        list_of_keypoints.append(slownik)\n",
    "\n",
    "df_to_json(df)\n",
    "\n",
    "with open('output_file.json', 'w') as json_file:\n",
    "    json.dump(list_of_keypoints, json_file)"
   ]
  },
  {
   "cell_type": "code",
   "execution_count": null,
   "id": "20240f5e",
   "metadata": {},
   "outputs": [],
   "source": []
  }
 ],
 "metadata": {
  "kernelspec": {
   "display_name": "Python 3",
   "language": "python",
   "name": "python3"
  },
  "language_info": {
   "codemirror_mode": {
    "name": "ipython",
    "version": 3
   },
   "file_extension": ".py",
   "mimetype": "text/x-python",
   "name": "python",
   "nbconvert_exporter": "python",
   "pygments_lexer": "ipython3",
   "version": "3.8.8"
  }
 },
 "nbformat": 4,
 "nbformat_minor": 5
}
